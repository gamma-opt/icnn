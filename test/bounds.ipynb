{
 "cells": [
  {
   "cell_type": "code",
   "execution_count": 7,
   "id": "694e9972",
   "metadata": {},
   "outputs": [],
   "source": [
    "include(\"../src/bounds.jl\")"
   ]
  },
  {
   "cell_type": "markdown",
   "id": "2b42a173",
   "metadata": {},
   "source": [
    "# Bounds"
   ]
  },
  {
   "cell_type": "code",
   "execution_count": 5,
   "id": "27cd9730",
   "metadata": {},
   "outputs": [
    {
     "ename": "UndefVarError",
     "evalue": "UndefVarError: `generate_bounds_matrix` not defined",
     "output_type": "error",
     "traceback": [
      "UndefVarError: `generate_bounds_matrix` not defined\n",
      "\n",
      "Stacktrace:\n",
      " [1] top-level scope\n",
      "   @ c:\\Users\\liuy43\\OneDrive - Aalto University\\Projects\\icnn\\test\\jl_notebook_cell_df34fa98e69747e1a8f8a730347b8e2f_W1sZmlsZQ==.jl:2"
     ]
    }
   ],
   "source": [
    "n = 2\n",
    "bounds = generate_bounds_matrix(n, \n",
    "                              [-1, 1],    # x1's lb and ub\n",
    "                              [-1, 1])    # x2's lb and ub\n",
    "println(\"Original bounds matrix: \", bounds)\n",
    "\n",
    "bounds_mid_upper = generate_bounds_matrix(n, \n",
    "                                        [-1, 1],\n",
    "                                        [-1, 1],\n",
    "                                        mid_dimension=1, bound_type=:upper)\n",
    "println(\"\\nBounds with dimension 2 upper bound set to midpoint: \", bounds_mid_upper)\n",
    "\n",
    "bounds_mid_lower = generate_bounds_matrix(n, \n",
    "                                        [-1, 1],\n",
    "                                        [-1, 1],\n",
    "                                        mid_dimension=1, bound_type=:lower)\n",
    "println(\"\\nBounds with dimension 1 lower bound set to midpoint: \", bounds_mid_lower)"
   ]
  },
  {
   "cell_type": "code",
   "execution_count": 6,
   "id": "505f8ad6",
   "metadata": {},
   "outputs": [
    {
     "ename": "UndefVarError",
     "evalue": "UndefVarError: `generate_extreme_combinations` not defined",
     "output_type": "error",
     "traceback": [
      "UndefVarError: `generate_extreme_combinations` not defined\n",
      "\n",
      "Stacktrace:\n",
      " [1] top-level scope\n",
      "   @ c:\\Users\\liuy43\\OneDrive - Aalto University\\Projects\\icnn\\test\\jl_notebook_cell_df34fa98e69747e1a8f8a730347b8e2f_W2sZmlsZQ==.jl:1"
     ]
    }
   ],
   "source": [
    "extreme_points = generate_extreme_combinations(bounds_matrix)"
   ]
  }
 ],
 "metadata": {
  "kernelspec": {
   "display_name": "Julia 1.10.3",
   "language": "julia",
   "name": "julia-1.10"
  },
  "language_info": {
   "file_extension": ".jl",
   "mimetype": "application/julia",
   "name": "julia",
   "version": "1.10.3"
  }
 },
 "nbformat": 4,
 "nbformat_minor": 5
}
